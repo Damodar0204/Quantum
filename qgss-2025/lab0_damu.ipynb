{
 "cells": [
  {
   "cell_type": "code",
   "execution_count": 2,
   "id": "29132842-ffe0-440e-a1b6-f830c90620f1",
   "metadata": {},
   "outputs": [
    {
     "name": "stdout",
     "output_type": "stream",
     "text": [
      "2.1.1\n"
     ]
    }
   ],
   "source": [
    "from qiskit import __version__\n",
    "print(__version__)"
   ]
  },
  {
   "cell_type": "code",
   "execution_count": 3,
   "id": "0e0516a4-f4aa-41cb-bc86-3ba5ca529da3",
   "metadata": {},
   "outputs": [
    {
     "name": "stdout",
     "output_type": "stream",
     "text": [
      "3.10.12\n"
     ]
    }
   ],
   "source": [
    "from platform import python_version\n",
    "print(python_version())"
   ]
  },
  {
   "cell_type": "code",
   "execution_count": 1,
   "id": "1f1375b4-6859-4846-a658-0d57604b4115",
   "metadata": {},
   "outputs": [],
   "source": [
    "#%pip install \"qc-grader[qiskit,jupyter] @ git+https://github.com/qiskit-community/Quantum-Challenge-Grader.git\"\n"
   ]
  },
  {
   "cell_type": "code",
   "execution_count": 4,
   "id": "8d7f28f4-fe51-4b4a-ab01-17c99f1189c1",
   "metadata": {},
   "outputs": [
    {
     "name": "stdout",
     "output_type": "stream",
     "text": [
      "Qiskit version: 2.1.1\n",
      "Grader version: 0.22.12\n"
     ]
    }
   ],
   "source": [
    "import qiskit\n",
    "import qc_grader\n",
    "\n",
    "print(f\"Qiskit version: {qiskit.__version__}\")\n",
    "print(f\"Grader version: {qc_grader.__version__}\")\n"
   ]
  },
  {
   "cell_type": "code",
   "execution_count": 19,
   "id": "9ee23e78-ef31-417d-9838-7e2abe392cd0",
   "metadata": {},
   "outputs": [],
   "source": [
    "# Save your API key to track your progress and have access to the quantum computers\n",
    "\n",
    "your_api_key = \"bPv6pz30z1Ukhl_EqOtNh7GRGX_NMYcehiSUa8k5l7zE\"\n",
    "your_crn = \"crn:v1:bluemix:public:quantum-computing:us-east:a/8e87a80e0177462cb9b2a239bb1bd33a:35423a8d-125a-452b-a7e4-8882cb3069b3::\"\n",
    "\n",
    "from qiskit_ibm_runtime import QiskitRuntimeService\n",
    "\n",
    "QiskitRuntimeService.save_account(\n",
    "    channel=\"ibm_quantum_platform\",\n",
    "    token=your_api_key,\n",
    "    instance=your_crn,\n",
    "    name=\"qgss-2025\",\n",
    "    overwrite=True\n",
    ")"
   ]
  },
  {
   "cell_type": "code",
   "execution_count": 20,
   "id": "1a4c7a27-67f1-49e5-bd49-ac0babbb41f9",
   "metadata": {},
   "outputs": [
    {
     "data": {
      "text/plain": [
       "{'qgss-2025': {'channel': 'ibm_quantum_platform',\n",
       "  'url': 'https://cloud.ibm.com',\n",
       "  'token': 'bPv6pz30z1Ukhl_EqOtNh7GRGX_NMYcehiSUa8k5l7zE',\n",
       "  'instance': 'crn:v1:bluemix:public:quantum-computing:us-east:a/8e87a80e0177462cb9b2a239bb1bd33a:35423a8d-125a-452b-a7e4-8882cb3069b3::',\n",
       "  'verify': True,\n",
       "  'private_endpoint': False}}"
      ]
     },
     "execution_count": 20,
     "metadata": {},
     "output_type": "execute_result"
    }
   ],
   "source": [
    "# Check that the account has been saved properly\n",
    "service = QiskitRuntimeService(name=\"qgss-2025\")\n",
    "service.saved_accounts()# Add measurement operations\n",
    "qc.measure_all()\n",
    "\n",
    "# Set up the backend\n",
    "backend = AerSimulator()\n",
    "\n",
    "# Set up the sampler\n",
    "sampler = Sampler(mode=backend)\n",
    "\n",
    "# Submit the circuit to Sampler\n",
    "pm = generate_preset_pass_manager(backend=backend, optimization_level=1)\n",
    "job = sampler.run(pm.run([qc]))\n",
    "\n",
    "# Get the results\n",
    "results_sampler = job.result()"
   ]
  },
  {
   "cell_type": "code",
   "execution_count": 8,
   "id": "826fee1e-284c-484d-b821-36c55bc8a929",
   "metadata": {},
   "outputs": [],
   "source": [
    "import matplotlib.pyplot as plt\n",
    "\n",
    "from qiskit import QuantumCircuit, generate_preset_pass_manager\n",
    "from qiskit.visualization import plot_histogram\n",
    "from qiskit.quantum_info import SparsePauliOp\n",
    "\n",
    "from qiskit_ibm_runtime import QiskitRuntimeService, SamplerV2 as Sampler, EstimatorV2 as Estimator\n",
    "\n",
    "from qiskit_aer import AerSimulator\n",
    "\n",
    "from qc_grader.challenges.qgss_2025 import grade_lab0_ex1, grade_lab0_ex2"
   ]
  },
  {
   "cell_type": "code",
   "execution_count": 9,
   "id": "fbc4293e-c181-4ca8-9777-5f19ffad5ca6",
   "metadata": {},
   "outputs": [
    {
     "data": {
      "image/png": "[encoded data removed]",
      "text/plain": [
       "<Figure size 287.294x200.667 with 1 Axes>"
      ]
     },
     "execution_count": 9,
     "metadata": {},
     "output_type": "execute_result"
    }
   ],
   "source": [
    "# Create a new circuit with a single qubit\n",
    "qc = QuantumCircuit(2)\n",
    "# Add a H gate to qubit 0\n",
    "qc.h(0)\n",
    "# Add a CNOT gate to qubit 1\n",
    "qc.cx(0, 1)\n",
    "# Return a drawing of the circuit using MatPlotLib (\"mpl\").\n",
    "qc.draw(\"mpl\")\n"
   ]
  },
  {
   "cell_type": "code",
   "execution_count": 10,
   "id": "ae544ffd-c614-4695-84d9-1bbc0ee7b7c4",
   "metadata": {},
   "outputs": [
    {
     "data": {
      "image/png": "[encoded data removed]",
      "text/plain": [
       "<Figure size 371.107x284.278 with 1 Axes>"
      ]
     },
     "execution_count": 10,
     "metadata": {},
     "output_type": "execute_result"
    }
   ],
   "source": [
    "# Create a new circuit with three qubits\n",
    "qc = QuantumCircuit(3)\n",
    "\n",
    "### WRITE YOUR CODE BELOW HERE ###\n",
    "# Add a H gate to qubit 0\n",
    "qc.h(0)\n",
    "# Add a CNOT gate to qubits 0 and 1\n",
    "qc.cx(0,1)\n",
    "# Add a CNOT gate to qubits 1 and 2\n",
    "qc.cx(1,2)\n",
    "### YOUR CODE FINISHES HERE    ###\n",
    "\n",
    "# Return a drawing of the circuit using MatPlotLib (\"mpl\").\n",
    "qc.draw(\"mpl\")"
   ]
  },
  {
   "cell_type": "code",
   "execution_count": 11,
   "id": "841160f2-6040-431f-ac9a-719e3c2a2fb6",
   "metadata": {},
   "outputs": [
    {
     "name": "stdout",
     "output_type": "stream",
     "text": [
      "Submitting your answer. Please wait...\n",
      "Congratulations 🎉! Your answer is correct and has been submitted.\n"
     ]
    }
   ],
   "source": [
    "# Submit your answer using following code\n",
    "grade_lab0_ex1(qc)"
   ]
  },
  {
   "cell_type": "code",
   "execution_count": 29,
   "id": "b7f1467c-3ea8-41c6-a020-8fada5b26472",
   "metadata": {},
   "outputs": [
    {
     "data": {
      "image/png": "[encoded data removed]",
      "text/plain": [
       "<Figure size 423.79x284.278 with 1 Axes>"
      ]
     },
     "execution_count": 29,
     "metadata": {},
     "output_type": "execute_result"
    }
   ],
   "source": [
    "from qiskit.transpiler.preset_passmanagers import generate_preset_pass_manager\n",
    "from qiskit.transpiler import CouplingMap\n",
    "from qiskit import QuantumCircuit\n",
    "\n",
    "### WRITE YOUR CODE BELOW HERE ###\n",
    "\n",
    "# Example quantum circuit (if not already defined)\n",
    "qc = QuantumCircuit(3)\n",
    "\n",
    "qc.h(0)\n",
    "qc.cx(0, 1)\n",
    "qc.cx(0, 2)\n",
    "\n",
    "# Define the coupling map as a list of connected qubit pairs\n",
    "coupling_map = [[0, 1], [0, 2]]\n",
    "\n",
    "# Create a CouplingMap object\n",
    "coupling = CouplingMap(couplinglist=coupling_map)\n",
    "\n",
    "# Transpile using the generate_preset_pass_manager function\n",
    "pm = generate_preset_pass_manager(3, coupling_map=coupling)\n",
    "\n",
    "### YOUR CODE FINISHES HERE ###\n",
    "\n",
    "# Apply the transpilation\n",
    "qc_transpiled = pm.run(qc)\n",
    "\n",
    "# Draw the transpiled circuit\n",
    "qc_transpiled.draw(\"mpl\")\n"
   ]
  },
  {
   "cell_type": "code",
   "execution_count": 30,
   "id": "0a682b89-c703-45ed-abcb-a420b742c61f",
   "metadata": {},
   "outputs": [
    {
     "name": "stdout",
     "output_type": "stream",
     "text": [
      "Submitting your answer. Please wait...\n",
      "Congratulations 🎉! Your answer is correct and has been submitted.\n"
     ]
    }
   ],
   "source": [
    "# Submit your answer using following code\n",
    "grade_lab0_ex2(qc_transpiled)\n"
   ]
  },
  {
   "cell_type": "code",
   "execution_count": 21,
   "id": "6ecb8a8a-d77f-4807-907a-673d60654c80",
   "metadata": {},
   "outputs": [],
   "source": [
    "# Add measurement operations\n",
    "qc.measure_all()\n",
    "\n",
    "# Set up the backend\n",
    "backend = AerSimulator()\n",
    "\n",
    "# Set up the sampler\n",
    "sampler = Sampler(mode=backend)\n",
    "\n",
    "# Submit the circuit to Sampler\n",
    "pm = generate_preset_pass_manager(backend=backend, optimization_level=1)\n",
    "job = sampler.run(pm.run([qc]))\n",
    "\n",
    "# Get the results\n",
    "results_sampler = job.result()"
   ]
  },
  {
   "cell_type": "code",
   "execution_count": 22,
   "id": "2364f0c6-f52f-43b5-a90d-c17b8b2f6d35",
   "metadata": {},
   "outputs": [],
   "source": [
    "# Set up the Estimator\n",
    "estimator = Estimator(mode=backend)\n",
    "\n",
    "# Define some observables\n",
    "ZZZ = SparsePauliOp(\"ZZZ\")\n",
    "ZZX = SparsePauliOp(\"ZZX\")\n",
    "ZII = SparsePauliOp(\"ZII\")\n",
    "XXI = SparsePauliOp(\"XXI\")\n",
    "ZZI = SparsePauliOp(\"ZZI\")\n",
    "III = SparsePauliOp(\"III\")\n",
    "observables = [ZZZ, ZZX, ZII, XXI, ZZI, III]\n",
    "\n",
    "# Submit the circuit to Estimator\n",
    "pub = (qc, observables)\n",
    "job = estimator.run(pubs=[pub])\n",
    "\n",
    "# Get the results\n",
    "results_estimator = job.result()"
   ]
  },
  {
   "cell_type": "code",
   "execution_count": 23,
   "id": "8ce04ae3-b228-4ebf-9650-702a0dfea1bf",
   "metadata": {},
   "outputs": [
    {
     "name": "stdout",
     "output_type": "stream",
     "text": [
      "  Outcomes : {'000': 1024}\n"
     ]
    },
    {
     "data": {
      "image/png": "[encoded data removed]",
      "text/plain": [
       "<Figure size 640x480 with 1 Axes>"
      ]
     },
     "metadata": {},
     "output_type": "display_data"
    }
   ],
   "source": [
    "counts_list = results_sampler[0].data.meas.get_counts()\n",
    "print(f\"  Outcomes : {counts_list}\")\n",
    "display(plot_histogram(counts_list, title=\"GHZ state\"))"
   ]
  },
  {
   "cell_type": "code",
   "execution_count": 24,
   "id": "cb6d5ae8-abf6-48d5-abd8-525238fc59a6",
   "metadata": {},
   "outputs": [
    {
     "name": "stdout",
     "output_type": "stream",
     "text": [
      "Expectation values: [('ZZZ', np.float64(1.0)), ('ZZX', np.float64(0.0380859375)), ('ZII', np.float64(1.0)), ('XXI', np.float64(0.017578125)), ('ZZI', np.float64(1.0)), ('III', np.float64(1.0))]\n"
     ]
    },
    {
     "data": {
      "image/png": "[encoded data removed]",
      "text/plain": [
       "<Figure size 640x480 with 1 Axes>"
      ]
     },
     "metadata": {},
     "output_type": "display_data"
    }
   ],
   "source": [
    "exp_values = results_estimator[0].data.evs\n",
    "observables_list = [\"ZZZ\", \"ZZX\", \"ZII\", \"XXI\", \"ZZI\", \"III\"]\n",
    "print(f\"Expectation values: {list(zip(observables_list, exp_values))}\")\n",
    "\n",
    "# Set up our plot\n",
    "container = plt.bar(observables_list, exp_values, width=0.8)\n",
    "# Label each axis\n",
    "plt.xlabel(\"Observables\")\n",
    "plt.ylabel(\"Values\")\n",
    "plt.show()"
   ]
  },
  {
   "cell_type": "code",
   "execution_count": 31,
   "id": "361056ab-1f43-41e4-829b-0199016e81e6",
   "metadata": {},
   "outputs": [
    {
     "name": "stdout",
     "output_type": "stream",
     "text": [
      "Lab 0: 2/2 exercises completed (100%)\n",
      "    ✅ 1875 participants have completed this lab\n",
      "Lab 1: 0/9 exercises completed (0%)\n",
      "    ✅ 1179 participants have completed this lab\n",
      "Lab 2: 0/7 exercises completed (0%)\n",
      "    ✅ 444 participants have completed this lab\n",
      "Lab 3: 0/5 exercises completed (0%)\n",
      "    ✅ 1 participants have completed this lab\n",
      "Lab 4: 0/6 exercises completed (0%)\n",
      "    ✅ 0 participants have completed this lab\n",
      "Functions Labs: 0/8 exercises completed (0%)\n",
      "    ✅ 0 participants have completed this lab\n"
     ]
    }
   ],
   "source": [
    "from qc_grader.grader.grade import check_lab_completion_status\n",
    "check_lab_completion_status(\"qgss_2025\")\n"
   ]
  },
  {
   "cell_type": "code",
   "execution_count": 26,
   "id": "1feb66ef-2897-4be7-a66f-5d9fd006ce7d",
   "metadata": {},
   "outputs": [
    {
     "name": "stdout",
     "output_type": "stream",
     "text": [
      "We are using the ibm_torino quantum computer\n"
     ]
    }
   ],
   "source": [
    "# Define the service. This allows you to access IBM QPUs.\n",
    "service = QiskitRuntimeService(name=\"qgss-2025\")\n",
    "\n",
    "# Get a backend\n",
    "backend = service.least_busy(operational=True, simulator=False)\n",
    "print(f\"We are using the {backend.name} quantum computer\")"
   ]
  },
  {
   "cell_type": "code",
   "execution_count": 27,
   "id": "f98bfc00-3e46-44db-b9ab-6b21ad3bed56",
   "metadata": {},
   "outputs": [
    {
     "ename": "SyntaxError",
     "evalue": "invalid syntax (1099656048.py, line 6)",
     "output_type": "error",
     "traceback": [
      "\u001b[0;36m  Cell \u001b[0;32mIn[27], line 6\u001b[0;36m\u001b[0m\n\u001b[0;31m    pm =\u001b[0m\n\u001b[0m         ^\u001b[0m\n\u001b[0;31mSyntaxError\u001b[0m\u001b[0;31m:\u001b[0m invalid syntax\n"
     ]
    }
   ],
   "source": [
    "### WRITE YOUR CODE BELOW HERE ###\n",
    "# Step 1. Map\n",
    "# You should have created a GHZ circuit above and assigned with variable `qc`\n",
    "\n",
    "# Step 2. Optimize\n",
    "pm = \n",
    "qc_transpiled = "
   ]
  },
  {
   "cell_type": "code",
   "execution_count": null,
   "id": "c4576f24-686f-4ca1-ac32-ed456a3a8729",
   "metadata": {},
   "outputs": [],
   "source": [
    "\n",
    "\n",
    "# Step 3. Execute\n",
    "sampler = \n",
    "job = \n",
    "\n"
   ]
  },
  {
   "cell_type": "code",
   "execution_count": null,
   "id": "a0479ce2-7086-42b3-b938-4aab7b13b300",
   "metadata": {},
   "outputs": [],
   "source": [
    "# Step 4. Post-process\n",
    "results = \n",
    "counts_list = \n",
    "### YOUR CODE FINISHES HERE    ###\n",
    "\n",
    "print(f\"Outcomes : {counts_list}\")\n",
    "plot_histogram(counts_list,title='GHZ state')"
   ]
  },
  {
   "cell_type": "code",
   "execution_count": null,
   "id": "b121a8bd-3cf6-495e-a110-c591d13e448e",
   "metadata": {},
   "outputs": [],
   "source": []
  }
 ],
 "metadata": {
  "kernelspec": {
   "display_name": "Python 3 (ipykernel)",
   "language": "python",
   "name": "python3"
  },
  "language_info": {
   "codemirror_mode": {
    "name": "ipython",
    "version": 3
   },
   "file_extension": ".py",
   "mimetype": "text/x-python",
   "name": "python",
   "nbconvert_exporter": "python",
   "pygments_lexer": "ipython3",
   "version": "3.10.12"
  }
 },
 "nbformat": 4,
 "nbformat_minor": 5
}
